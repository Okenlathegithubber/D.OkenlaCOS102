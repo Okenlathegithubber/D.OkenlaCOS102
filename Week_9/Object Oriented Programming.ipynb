{
 "cells": [
  {
   "cell_type": "markdown",
   "metadata": {},
   "source": [
    "# Object Oriented Programming Concepts\n",
    "<ul>\n",
    "    <li>Python is an object-oriented programming language. Unlike procedure-oriented programming, where the main emphasis is on functions, object-oriented programming stresses on objects.</li><li>\n",
    "\n",
    "An object is simply a collection of data (variables) and methods (functions) that act on those data. Similarly, a class is a blueprint for that object.</li><li>\n",
    "\n",
    "We can think of a class as a sketch (prototype) of a house. It contains all the details about the floors, doors, windows, etc. Based on these descriptions we build the house. House is the object.</li><li>\n",
    "\n",
    "As many houses can be made from a house's blueprint, we can create many objects from a class. </li><li>Object-oriented Programming (OOPs) is a programming paradigm that uses objects and classes in programming.</li>\n",
    "    <li> \n",
    "It aims to implement real-world entities like inheritance, polymorphisms, encapsulation, etc. in the programming.</li>\n",
    "    <li>\n",
    "The main concept of OOPs is to bind the data and the functions that work on that together as a single unit so that no other part of the code can access this data. </li></ul>"
   ]
  },
  {
   "cell_type": "markdown",
   "metadata": {},
   "source": [
    "# Main Concepts of OOP\n",
    "   <ul><li> Class</li>\n",
    "    <li>\n",
    "Objects</li>\n",
    "    <li>\n",
    "Polymorphism</li>\n",
    "    <li>\n",
    "Encapsulation</li>\n",
    "    <li>\n",
    "Inheritance</li></ul>"
   ]
  },
  {
   "cell_type": "markdown",
   "metadata": {},
   "source": [
    "## Class\n",
    "<ul><li>A class is a collection of objects.</li><li> A class contains the blueprints or the prototype from which the objects are being created. </li><li>It is a logical entity that contains some attributes and methods. </li></ul>\n",
    "\n",
    "Let's take an example:<br><br>\n",
    "<img src=\"class.jpg\" align=\"left\">\n",
    "A parrot is an object, as it has the following properties:\n",
    "\n",
    "<ul><li>name, age, color as attributes</li><li>\n",
    "singing, dancing as behavior</li></ul>\n"
   ]
  },
  {
   "cell_type": "markdown",
   "metadata": {},
   "source": [
    "### Some points on Python class:  \n",
    "\n",
    "<ul><li>Classes are created by keyword class.</li><li>\n",
    "Attributes are the variables that belong to a class.</li><li>\n",
    "Attributes are always public and can be accessed using the dot (.) operator. Eg.: Myclass.Myattribute</li></ul>\n",
    "The concept of OOP in Python focuses on creating reusable code. This concept is also known as DRY (Don't Repeat Yourself)."
   ]
  },
  {
   "cell_type": "markdown",
   "metadata": {},
   "source": [
    "### Creating an empty class"
   ]
  },
  {
   "cell_type": "code",
   "execution_count": 68,
   "metadata": {},
   "outputs": [],
   "source": [
    "# A Python program to\n",
    "# demonstrate defining\n",
    "# a class\n",
    "\n",
    "class Parrot():\n",
    "    pass"
   ]
  },
  {
   "cell_type": "markdown",
   "metadata": {},
   "source": [
    "## Objects\n",
    "<ul><li>The object is an entity that has a state and behavior associated with it.</li><li> It may be any real-world object like a mouse, keyboard, chair, table, pen, etc.</li><li> Integers, strings, floating-point numbers, even arrays, and dictionaries, are all objects.</li><li> You’ve been using objects all along and may not even realize it.</li></ul>"
   ]
  },
  {
   "cell_type": "markdown",
   "metadata": {},
   "source": [
    "### An object consists of :\n",
    "\n",
    "<img src=\"objects.jpg\" width=\"300\" height=\"360\" align=\"left\">\n",
    "\n",
    "<ul><li><b>State:</b> It is represented by the attributes of an object. It also reflects the properties of an object.</li><li>\n",
    "<b>Behavior:</b> It is represented by the methods of an object. It also reflects the response of an object to other objects.</li><li>\n",
    "<b>Identity:</b> It gives a unique name to an object and enables one object to interact with other objects.</li></ul>"
   ]
  },
  {
   "cell_type": "markdown",
   "metadata": {},
   "source": [
    "### Creating an object \n",
    "<ul><li>An object (instance) is an instantiation of a class.</li><li> When class is defined, only the description for the object is defined. Therefore, no memory or storage is allocated.</li></ul>"
   ]
  },
  {
   "cell_type": "code",
   "execution_count": 69,
   "metadata": {},
   "outputs": [],
   "source": [
    "obj = Parrot()"
   ]
  },
  {
   "cell_type": "markdown",
   "metadata": {},
   "source": [
    "### Declaring an object"
   ]
  },
  {
   "cell_type": "code",
   "execution_count": 70,
   "metadata": {},
   "outputs": [
    {
     "name": "stdout",
     "output_type": "stream",
     "text": [
      "mammal\n",
      "I'm a mammal\n",
      "I'm a dog\n"
     ]
    }
   ],
   "source": [
    "# Python program to\n",
    "# demonstrate instantiating\n",
    "# a class\n",
    "\n",
    "\n",
    "class Dog():\n",
    "\n",
    "    # A simple class\n",
    "    # attribute\n",
    "    attr1 = \"mammal\"\n",
    "    attr2 = \"dog\"\n",
    "\n",
    "    # A class method\n",
    "    def fun(self):\n",
    "        print(\"I'm a\", self.attr1)\n",
    "        print(\"I'm a\", self.attr2)\n",
    "\n",
    "# Object instantiation\n",
    "Rodger = Dog()\n",
    "\n",
    "# Accessing class attributes\n",
    "# and method through objects\n",
    "\n",
    "print(Rodger.attr1)\n",
    "Rodger.fun()\n"
   ]
  },
  {
   "cell_type": "markdown",
   "metadata": {},
   "source": [
    "### Understanding some basic keywords\n"
   ]
  },
  {
   "cell_type": "markdown",
   "metadata": {},
   "source": [
    "#### The self\n",
    "<ul><li><b>self</b> represents the instance of the class. By using the <b>“self”</b>  we can access the attributes and methods of the class in python. It binds the attributes with the given arguments.</li><li> Python decided to do methods in a way that makes the instance to which the method belongs be passed automatically, but not received automatically: the first parameter of methods is the instance the method is called on.</li><li>\n",
    "    Class methods must have an extra first parameter in the method definition. We do not give a value for this parameter when we call the method, Python provides it.</li><li>\n",
    "If we have a method that takes no arguments, then we still have to have one argument.</li><li>\n",
    "This is similar to this pointer in C++ and this reference in Java.</li></ul>"
   ]
  },
  {
   "cell_type": "markdown",
   "metadata": {},
   "source": [
    "### Characteristics of SELF\n",
    "#### <ul><li>Self is always pointing to Current Object.</li></ul>"
   ]
  },
  {
   "cell_type": "code",
   "execution_count": 71,
   "metadata": {},
   "outputs": [
    {
     "name": "stdout",
     "output_type": "stream",
     "text": [
      "Address of self =  2132800632688\n",
      "Address of class object =  2132800632688\n"
     ]
    }
   ],
   "source": [
    "# It is clearly seen that self and obj is referring to the same object\n",
    "\n",
    "class check_:\n",
    "    def __init__(self):\n",
    "        print(\"Address of self = \",id(self))\n",
    "\n",
    "obj = check_()\n",
    "print(\"Address of class object = \",id(obj))\n"
   ]
  },
  {
   "cell_type": "code",
   "execution_count": 72,
   "metadata": {},
   "outputs": [
    {
     "name": "stdout",
     "output_type": "stream",
     "text": [
      "Model is Toyota Corolla\n",
      "color is blue\n",
      "Model is Kia Cerato\n",
      "color is green\n"
     ]
    }
   ],
   "source": [
    "# Another example using SELF\n",
    "\n",
    "class car():\n",
    "\n",
    "    # init method or constructor\n",
    "    def __init__(self, model, color):\n",
    "        self.model = model\n",
    "        self.color = color\n",
    "\n",
    "    def show(self):\n",
    "        print(\"Model is\", self.model )\n",
    "        print(\"color is\", self.color )\n",
    "\n",
    "\n",
    "toyota = car(\"Toyota Corolla\", \"blue\")\n",
    "kia = car(\"Kia Cerato\", \"green\")\n",
    "\n",
    "toyota.show() # same output as car.show(toyota)\n",
    "kia.show() # same output as car.show(kia)\n",
    "\n"
   ]
  },
  {
   "cell_type": "markdown",
   "metadata": {},
   "source": [
    "#### <ul><li>Self is the first argument to be passed in Constructor and Instance Method.</li></ul>"
   ]
  },
  {
   "cell_type": "code",
   "execution_count": 73,
   "metadata": {},
   "outputs": [
    {
     "name": "stdout",
     "output_type": "stream",
     "text": [
      "This is Constructor\n",
      "Worked fine\n"
     ]
    }
   ],
   "source": [
    "# Self is always required as the first argument\n",
    "class check:\n",
    "    def __init__(self):\n",
    "        print(\"This is Constructor\")\n",
    "\n",
    "object = check()\n",
    "print(\"Worked fine\")"
   ]
  },
  {
   "cell_type": "markdown",
   "metadata": {},
   "source": [
    "#### <ul><li>Self is a convention and not a Python keyword.</li></ul>"
   ]
  },
  {
   "cell_type": "code",
   "execution_count": 74,
   "metadata": {},
   "outputs": [
    {
     "name": "stdout",
     "output_type": "stream",
     "text": [
      "we have used another parameter name in place of self\n"
     ]
    }
   ],
   "source": [
    "# Write Python3 code here\n",
    "\n",
    "class this_is_class:\n",
    "    def __init__(in_place_of_self):\n",
    "        print(\"we have used another \"\n",
    "        \"parameter name in place of self\")\n",
    "\n",
    "object = this_is_class()\n"
   ]
  },
  {
   "cell_type": "markdown",
   "metadata": {},
   "source": [
    "### The __ __init__ __ method \n",
    "<ul><li>The __init__ method is similar to constructors in C++ and Java. </li><li>It is run as soon as an object of a class is instantiated. </li><li>The method is useful to do any initialization you want to do with your object. </li>\n",
    "    <li>Constructors are used to initialize the object’s state. The task of constructors is to initialize(assign values) to the data members of the class when an object of class is created. Like methods, a constructor also contains collection of statements(i.e. instructions) that are executed at time of Object creation. It is run as soon as an object of a class is instantiated. The method is useful to do any initialization you want to do with your object.</li></ul>"
   ]
  },
  {
   "cell_type": "code",
   "execution_count": 75,
   "metadata": {},
   "outputs": [
    {
     "name": "stdout",
     "output_type": "stream",
     "text": [
      "Hello, my name is Hans Madugu\n"
     ]
    }
   ],
   "source": [
    "# A class with init method\n",
    "\n",
    "class Person:\n",
    "\n",
    "    # init method or constructor\n",
    "    def __init__(self, name):\n",
    "        self.name = name\n",
    "\n",
    "    # Method\n",
    "    def say_hi(self):\n",
    "        print('Hello, my name is', self.name)\n",
    "\n",
    "p = Person('Hans Madugu')\n",
    "p.say_hi()\n"
   ]
  },
  {
   "cell_type": "code",
   "execution_count": 76,
   "metadata": {},
   "outputs": [
    {
     "name": "stdout",
     "output_type": "stream",
     "text": [
      "Hello, my name is Enobasi\n",
      "I am 17\n",
      "Hello, my name is Leela\n",
      "I am 19\n",
      "Hello, my name is Divine\n",
      "I am 18\n"
     ]
    }
   ],
   "source": [
    "# Another class with init method\n",
    "class Person:\n",
    "\n",
    "    # init method or constructor\n",
    "    def __init__(self, name ,age):\n",
    "        self.name = name\n",
    "        self.age = age\n",
    "\n",
    "    # Method\n",
    "    def say_hi(self):\n",
    "        print('Hello, my name is', self.name)\n",
    "        print('I am', self.age)   \n",
    "\n",
    "# Creating different objects\n",
    "\n",
    "p1 = Person('Enobasi', 17)\n",
    "p2 = Person('Leela', 19)\n",
    "p3 = Person('Divine', 18)\n",
    "\n",
    "p1.say_hi()\n",
    "p2.say_hi()\n",
    "p3.say_hi()\n"
   ]
  },
  {
   "cell_type": "markdown",
   "metadata": {},
   "source": [
    "### Constructors in Python\n",
    "<ul><li>Constructors are generally used for instantiating an object.</li><li>The task of constructors is to initialize(assign values) to the data members of the class when an object of the class is created.</li><li> In Python the __init__() method is called the constructor and is always called when an object is created.</li></ul>"
   ]
  },
  {
   "cell_type": "markdown",
   "metadata": {},
   "source": [
    "### Types of constructors : \n",
    "\n",
    "<ul><li><b>default constructor:</b> The default constructor is a simple constructor which doesn’t accept any arguments. Its definition has only one argument which is a reference to the instance being constructed.</li><li>\n",
    "    <b>parameterized constructor:</b> constructor with parameters is known as parameterized constructor. The parameterized constructor takes its first argument as a reference to the instance being constructed known as self and the rest of the arguments are provided by the programmer.</li></ul>"
   ]
  },
  {
   "cell_type": "markdown",
   "metadata": {},
   "source": [
    "#### Default Constructor"
   ]
  },
  {
   "cell_type": "code",
   "execution_count": 77,
   "metadata": {},
   "outputs": [
    {
     "name": "stdout",
     "output_type": "stream",
     "text": [
      "CSC 102 - Introduction to Problem Solving\n"
     ]
    }
   ],
   "source": [
    "class Program:\n",
    "\n",
    "    # default constructor\n",
    "    def __init__(self):\n",
    "        self.course = \"CSC 102 - Introduction to Problem Solving\"\n",
    "\n",
    "    # a method for printing data members\n",
    "    def print_Course(self):\n",
    "        print(self.course)\n",
    "\n",
    "\n",
    "# creating object of the class\n",
    "obj = Program()\n",
    "\n",
    "# calling the instance method using the object obj\n",
    "obj.print_Course()\n"
   ]
  },
  {
   "cell_type": "markdown",
   "metadata": {},
   "source": [
    "#### Parameterized Constructor"
   ]
  },
  {
   "cell_type": "code",
   "execution_count": 78,
   "metadata": {},
   "outputs": [
    {
     "ename": "KeyboardInterrupt",
     "evalue": "Interrupted by user",
     "output_type": "error",
     "traceback": [
      "\u001b[1;31m---------------------------------------------------------------------------\u001b[0m",
      "\u001b[1;31mKeyboardInterrupt\u001b[0m                         Traceback (most recent call last)",
      "Cell \u001b[1;32mIn[78], line 21\u001b[0m\n\u001b[0;32m     17\u001b[0m         \u001b[38;5;28mself\u001b[39m\u001b[38;5;241m.\u001b[39manswer \u001b[38;5;241m=\u001b[39m \u001b[38;5;28mself\u001b[39m\u001b[38;5;241m.\u001b[39mfirst \u001b[38;5;241m+\u001b[39m \u001b[38;5;28mself\u001b[39m\u001b[38;5;241m.\u001b[39msecond\n\u001b[0;32m     19\u001b[0m \u001b[38;5;66;03m# creating object of the class\u001b[39;00m\n\u001b[0;32m     20\u001b[0m \u001b[38;5;66;03m# this will invoke parameterized constructor\u001b[39;00m\n\u001b[1;32m---> 21\u001b[0m num1 \u001b[38;5;241m=\u001b[39m \u001b[38;5;28mint\u001b[39m(\u001b[38;5;28;43minput\u001b[39;49m\u001b[43m(\u001b[49m\u001b[38;5;124;43m\"\u001b[39;49m\u001b[38;5;124;43mEnter first number: \u001b[39;49m\u001b[38;5;124;43m\"\u001b[39;49m\u001b[43m)\u001b[49m)\n\u001b[0;32m     22\u001b[0m num2 \u001b[38;5;241m=\u001b[39m \u001b[38;5;28mint\u001b[39m(\u001b[38;5;28minput\u001b[39m(\u001b[38;5;124m\"\u001b[39m\u001b[38;5;124mEnter second number: \u001b[39m\u001b[38;5;124m\"\u001b[39m))\n\u001b[0;32m     23\u001b[0m obj \u001b[38;5;241m=\u001b[39m Addition(num1, num2)\n",
      "File \u001b[1;32m~\\AppData\\Local\\Packages\\PythonSoftwareFoundation.Python.3.12_qbz5n2kfra8p0\\LocalCache\\local-packages\\Python312\\site-packages\\ipykernel\\kernelbase.py:1282\u001b[0m, in \u001b[0;36mKernel.raw_input\u001b[1;34m(self, prompt)\u001b[0m\n\u001b[0;32m   1280\u001b[0m     msg \u001b[38;5;241m=\u001b[39m \u001b[38;5;124m\"\u001b[39m\u001b[38;5;124mraw_input was called, but this frontend does not support input requests.\u001b[39m\u001b[38;5;124m\"\u001b[39m\n\u001b[0;32m   1281\u001b[0m     \u001b[38;5;28;01mraise\u001b[39;00m StdinNotImplementedError(msg)\n\u001b[1;32m-> 1282\u001b[0m \u001b[38;5;28;01mreturn\u001b[39;00m \u001b[38;5;28;43mself\u001b[39;49m\u001b[38;5;241;43m.\u001b[39;49m\u001b[43m_input_request\u001b[49m\u001b[43m(\u001b[49m\n\u001b[0;32m   1283\u001b[0m \u001b[43m    \u001b[49m\u001b[38;5;28;43mstr\u001b[39;49m\u001b[43m(\u001b[49m\u001b[43mprompt\u001b[49m\u001b[43m)\u001b[49m\u001b[43m,\u001b[49m\n\u001b[0;32m   1284\u001b[0m \u001b[43m    \u001b[49m\u001b[38;5;28;43mself\u001b[39;49m\u001b[38;5;241;43m.\u001b[39;49m\u001b[43m_parent_ident\u001b[49m\u001b[43m[\u001b[49m\u001b[38;5;124;43m\"\u001b[39;49m\u001b[38;5;124;43mshell\u001b[39;49m\u001b[38;5;124;43m\"\u001b[39;49m\u001b[43m]\u001b[49m\u001b[43m,\u001b[49m\n\u001b[0;32m   1285\u001b[0m \u001b[43m    \u001b[49m\u001b[38;5;28;43mself\u001b[39;49m\u001b[38;5;241;43m.\u001b[39;49m\u001b[43mget_parent\u001b[49m\u001b[43m(\u001b[49m\u001b[38;5;124;43m\"\u001b[39;49m\u001b[38;5;124;43mshell\u001b[39;49m\u001b[38;5;124;43m\"\u001b[39;49m\u001b[43m)\u001b[49m\u001b[43m,\u001b[49m\n\u001b[0;32m   1286\u001b[0m \u001b[43m    \u001b[49m\u001b[43mpassword\u001b[49m\u001b[38;5;241;43m=\u001b[39;49m\u001b[38;5;28;43;01mFalse\u001b[39;49;00m\u001b[43m,\u001b[49m\n\u001b[0;32m   1287\u001b[0m \u001b[43m\u001b[49m\u001b[43m)\u001b[49m\n",
      "File \u001b[1;32m~\\AppData\\Local\\Packages\\PythonSoftwareFoundation.Python.3.12_qbz5n2kfra8p0\\LocalCache\\local-packages\\Python312\\site-packages\\ipykernel\\kernelbase.py:1325\u001b[0m, in \u001b[0;36mKernel._input_request\u001b[1;34m(self, prompt, ident, parent, password)\u001b[0m\n\u001b[0;32m   1322\u001b[0m \u001b[38;5;28;01mexcept\u001b[39;00m \u001b[38;5;167;01mKeyboardInterrupt\u001b[39;00m:\n\u001b[0;32m   1323\u001b[0m     \u001b[38;5;66;03m# re-raise KeyboardInterrupt, to truncate traceback\u001b[39;00m\n\u001b[0;32m   1324\u001b[0m     msg \u001b[38;5;241m=\u001b[39m \u001b[38;5;124m\"\u001b[39m\u001b[38;5;124mInterrupted by user\u001b[39m\u001b[38;5;124m\"\u001b[39m\n\u001b[1;32m-> 1325\u001b[0m     \u001b[38;5;28;01mraise\u001b[39;00m \u001b[38;5;167;01mKeyboardInterrupt\u001b[39;00m(msg) \u001b[38;5;28;01mfrom\u001b[39;00m \u001b[38;5;28;01mNone\u001b[39;00m\n\u001b[0;32m   1326\u001b[0m \u001b[38;5;28;01mexcept\u001b[39;00m \u001b[38;5;167;01mException\u001b[39;00m:\n\u001b[0;32m   1327\u001b[0m     \u001b[38;5;28mself\u001b[39m\u001b[38;5;241m.\u001b[39mlog\u001b[38;5;241m.\u001b[39mwarning(\u001b[38;5;124m\"\u001b[39m\u001b[38;5;124mInvalid Message:\u001b[39m\u001b[38;5;124m\"\u001b[39m, exc_info\u001b[38;5;241m=\u001b[39m\u001b[38;5;28;01mTrue\u001b[39;00m)\n",
      "\u001b[1;31mKeyboardInterrupt\u001b[0m: Interrupted by user"
     ]
    }
   ],
   "source": [
    "class Addition:\n",
    "    first = 0\n",
    "    second = 0\n",
    "    answer = 0\n",
    "    \n",
    "    # parameterized constructor\n",
    "    def __init__(self, f, s):\n",
    "        self.first = f\n",
    "        self.second = s\n",
    "\n",
    "    def display(self):\n",
    "        print(\"First number = \" + str(self.first))\n",
    "        print(\"Second number = \" + str(self.second))\n",
    "        print(\"Addition of two numbers = \" + str(self.answer))\n",
    "\n",
    "    def calculate(self):\n",
    "        self.answer = self.first + self.second\n",
    "\n",
    "# creating object of the class\n",
    "# this will invoke parameterized constructor\n",
    "num1 = int(input(\"Enter first number: \"))\n",
    "num2 = int(input(\"Enter second number: \"))\n",
    "obj = Addition(num1, num2)\n",
    "\n",
    "# perform Addition\n",
    "obj.calculate()\n",
    "\n",
    "# display result\n",
    "obj.display()\n"
   ]
  },
  {
   "cell_type": "markdown",
   "metadata": {},
   "source": [
    "### Creating a class and object with class and instance attributes"
   ]
  },
  {
   "cell_type": "code",
   "execution_count": null,
   "metadata": {},
   "outputs": [
    {
     "name": "stdout",
     "output_type": "stream",
     "text": [
      "Oscar is a mammal\n",
      "Peaches is also a mammal\n",
      "My name is Oscar\n",
      "My name is Peaches\n"
     ]
    }
   ],
   "source": [
    "class Dogs:\n",
    "\n",
    "    # class attribute\n",
    "    attr1 = \"mammal\"\n",
    "\n",
    "    # Instance attribute\n",
    "    def __init__(self, name):\n",
    "        self.name = name\n",
    "\n",
    "# Object instantiation\n",
    "dog1 = Dogs(\"Oscar\")\n",
    "dog2 = Dogs(\"Peaches\")\n",
    "\n",
    "# Accessing class attributes\n",
    "print(\"Oscar is a {}\".format(dog1.attr1))\n",
    "print(\"Peaches is also a {}\".format(dog2.attr1))\n",
    "\n",
    "# Accessing instance attributes\n",
    "print(\"My name is {}\".format(dog1.name))\n",
    "print(\"My name is {}\".format(dog2.name))\n"
   ]
  },
  {
   "cell_type": "markdown",
   "metadata": {},
   "source": [
    "### Creating Class and objects with methods"
   ]
  },
  {
   "cell_type": "code",
   "execution_count": null,
   "metadata": {},
   "outputs": [
    {
     "name": "stdout",
     "output_type": "stream",
     "text": [
      "My name is ffd\n",
      "I'm studying Computer Science\n",
      "My name is Enter the name of the second student: \n",
      "I'm studying Computer Science\n"
     ]
    }
   ],
   "source": [
    "class SST:\n",
    "\n",
    "    # class attribute\n",
    "    prog1 = \"Computer Science\"\n",
    "\n",
    "    # Instance attribute\n",
    "    def __init__(self, name):\n",
    "        self.name = name\n",
    "\n",
    "    def speak(self):\n",
    "        print(\"My name is {}\".format(self.name))\n",
    "        print(\"I'm studying {}\".format(stud1.__class__.prog1))\n",
    "\n",
    "# Object instantiation\n",
    "stud1 = SST(input(\"Enter the name of the first student: \"))\n",
    "stud2 = SST(\"Enter the name of the second student: \")\n",
    "\n",
    "# Accessing class methods\n",
    "stud1.speak()\n",
    "stud2.speak()\n"
   ]
  },
  {
   "cell_type": "markdown",
   "metadata": {},
   "source": [
    "### Class and Instance Variables\n",
    "<ul><li>Instance variables are for data unique to each instance and class variables are for attributes and methods shared by all instances of the class.</li><li> Instance variables are variables whose value is assigned inside a constructor or method with self, whereas class variables are variables whose value is assigned in the class.</li></ul>"
   ]
  },
  {
   "cell_type": "code",
   "execution_count": null,
   "metadata": {},
   "outputs": [
    {
     "name": "stdout",
     "output_type": "stream",
     "text": [
      "Rodger details:\n",
      "Rodger is a dog\n",
      "Breed:  Pug\n",
      "Color:  brown\n",
      "\n",
      "Buzo details:\n",
      "Buzo is a dog\n",
      "Breed:  Bulldog\n",
      "Color:  black\n",
      "\n",
      "Accessing class variable using class name\n",
      "dog\n"
     ]
    }
   ],
   "source": [
    "# A Python program to show that the variables with a value\n",
    "# assigned in the class declaration, are class variables and\n",
    "# variables inside methods and constructors are instance\n",
    "# variables.\n",
    "\n",
    "# Class for Dog\n",
    "class Dog:\n",
    "\n",
    "    # Class Variable\n",
    "    animal = 'dog'\n",
    "\n",
    "    # The init method or constructor\n",
    "    def __init__(self, breed, color):\n",
    "    \n",
    "        # Instance Variable\n",
    "        self.breed = breed\n",
    "        self.color = color\n",
    "    \n",
    "# Objects of Dog class\n",
    "Rodger = Dog(\"Pug\", \"brown\")\n",
    "Buzo = Dog(\"Bulldog\", \"black\")\n",
    "\n",
    "print('Rodger details:')\n",
    "print('Rodger is a', Rodger.animal)\n",
    "print('Breed: ', Rodger.breed)\n",
    "print('Color: ', Rodger.color)\n",
    "\n",
    "print('\\nBuzo details:')\n",
    "print('Buzo is a', Buzo.animal)\n",
    "print('Breed: ', Buzo.breed)\n",
    "print('Color: ', Buzo.color)\n",
    "\n",
    "# Class variables can be accessed using class\n",
    "# name also\n",
    "print(\"\\nAccessing class variable using class name\")\n",
    "print(Dog.animal)"
   ]
  },
  {
   "cell_type": "markdown",
   "metadata": {},
   "source": [
    "### Defining instance variable using the normal method."
   ]
  },
  {
   "cell_type": "code",
   "execution_count": null,
   "metadata": {},
   "outputs": [
    {
     "name": "stdout",
     "output_type": "stream",
     "text": [
      "brown\n"
     ]
    }
   ],
   "source": [
    "# Python program to show that we can create\n",
    "# instance variables inside methods\n",
    "\n",
    "# Class for Dog\n",
    "class Dog:\n",
    "\n",
    "    # Class Variable\n",
    "    animal = 'dog'\n",
    "\n",
    "    # The init method or constructor\n",
    "    def __init__(self, breed):\n",
    "\n",
    "        # Instance Variable\n",
    "        self.breed = breed\n",
    "\n",
    "    # Adds an instance variable\n",
    "    def setColor(self, color):\n",
    "        self.color = color\n",
    "\n",
    "    # Retrieves instance variable\n",
    "    def getColor(self):\n",
    "        return self.color\n",
    "\n",
    "# Object instantiation\n",
    "Rodger = Dog(\"pug\")\n",
    "Rodger.setColor(\"brown\")\n",
    "print(Rodger.getColor())\n"
   ]
  },
  {
   "cell_type": "markdown",
   "metadata": {},
   "source": [
    "## Class Project I"
   ]
  },
  {
   "cell_type": "markdown",
   "metadata": {},
   "source": [
    "One of the key issue that have threatened organizations and institutions is that of logistics. To solve it, employers now use biometric softwares and computer vision enabled tools to verify identities of their employees and take attendance. Mrs. Jane runs a delivery business with 15 employees, but she would want a way to identify if a user is one of her employees, take attendance and assign a task to the employee for the day. \n",
    "\n",
    "Employees = \"Mary Evans\", \"Eyo Ishan\", \"Durojaiye Dare\", \"Adams Ali\", \"Andrew Ugwu\", \"Stella Mankinde\", \"Jane Akibo\", \"Ago James\", \"Michell Taiwo\", \"Abraham Jones\" , \"Nicole Anide\", \"Kosi Korso\", \"Adele Martins\", \"Emmanuel Ojo\", \"Ajayi Fatima\".\n",
    "\n",
    "Tasks = \"Loading\", \"Transporting\", \"Reveiwing Orders\", \"Customer Service\", \"Delivering Items\"\n",
    "\n",
    "Your mission, should you choose to accept it, is to develop a python GUI program using your knowledge in OOP (class and objects) that takes a user's name and check if he/she exists in the list of employees, take attendance for the day and assign a task to the employess … otherwise, you politely refuse access to the system.\n",
    "\n",
    "<b>Hint:</b>\n",
    "\n",
    "<ol><li>Build a class <b>Employee()</b> that has four methods in the class; <b>check_employee()</b>, <b>take_attendance()</b>, <b>assign_task()</b> and <b>refuse_access()</b>.</li><li>\n",
    "    You can <b>import random</b> module and use the <b>random.randint()</b> method to randomly select task from the list. </li></ol>\n"
   ]
  },
  {
   "cell_type": "code",
   "execution_count": 86,
   "metadata": {},
   "outputs": [
    {
     "data": {
      "text/plain": [
       "<__main__.Employee at 0x1f094d2e8a0>"
      ]
     },
     "execution_count": 86,
     "metadata": {},
     "output_type": "execute_result"
    }
   ],
   "source": [
    "from random import randint\n",
    "from tkinter import *\n",
    "from tkinter import messagebox\n",
    "\n",
    "employees_list = [\"Mary Evans\", \"Eyo Ishan\", \"Durojaiye Dare\", \"Adams Ali\", \"Andrew Ugwu\", \"Stella Mankinde\", \"Jane Akibo\", \"Ago James\", \"Michell Taiwo\"\n",
    "                ,\"Abraham Jones\" , \"Nicole Anide\", \"Kosi Korso\", \"Adele Martins\", \"Emmanuel Ojo\", \"Ajayi Fatima\"]\n",
    "tasks_list = [\"Loading\", \"Transporting\", \"Reveiwing Orders\", \"Customer Service\", \"Delivering Items\"]\n",
    "attendance = 0\n",
    "\n",
    "\n",
    "class Employee:\n",
    "\n",
    "    def __init__(self):\n",
    "        self.window = Tk()\n",
    "        self.window.geometry(\"350x250\")\n",
    "        self.window.title(\"Project 1\")\n",
    "\n",
    "        self.label = Label(text=\"NAME:\", font=(\"Arial\", 16))\n",
    "        self.label.pack()\n",
    "        self.entry = Entry(self.window)\n",
    "        self.entry.pack()\n",
    "\n",
    "        self.sign_in = Button(text=\"Log-in\", command= self.check_employee)\n",
    "        self.sign_in.pack()\n",
    "\n",
    "        self.window.mainloop()\n",
    "        \n",
    "\n",
    "    def check_employee(self):\n",
    "        self.name = self.entry.get()\n",
    "        if self.name in employees_list:\n",
    "            self.take_attendance()\n",
    "            self.assign_task()\n",
    "        else:\n",
    "            self.refuse_access()\n",
    "    \n",
    "    def take_attendance(self):\n",
    "        self.name = self.entry.get()\n",
    "        messagebox.showinfo(\"Employee Check Complete\",f\"{self.name} is an employee\")\n",
    "        attendance =+ 1\n",
    "        return attendance\n",
    "        \n",
    "\n",
    "    def assign_task(self):\n",
    "        self.task = randint(0, len(tasks_list))\n",
    "        self.task_assigned = tasks_list[self.task]\n",
    "        messagebox.showinfo(\"Task Assignment\",f\"{self.name} is assigned to {self.task_assigned}\")\n",
    "    \n",
    "    def refuse_access(self):\n",
    "        self.name = self.entry.get()\n",
    "        messagebox.showinfo(\"Employee Check Complete\",f\"{self.name} does not exist in the list of employees\")\n",
    "\n",
    "        \n",
    "Employee()\n",
    "        "
   ]
  },
  {
   "cell_type": "markdown",
   "metadata": {},
   "source": [
    "## Class Project II"
   ]
  },
  {
   "cell_type": "markdown",
   "metadata": {},
   "source": [
    "You run a delivery service, and charge people based on their location and weight of their package. The following are some of the things you consider.\n",
    "\n",
    "You charge N2000, whenever you are delivering a package with weight of 10kg and above to PAU, and N1500 when it is less.\n",
    "However, you charge N5000 whenever you deliver to Epe, a package with weight of 10kg and above, and N4000 when it is less.\n",
    "\n",
    "Develop the python GUI program using your knowledge in OOP, that tells a user how much to pay, based on their location, and package weight. \n",
    "\n"
   ]
  },
  {
   "cell_type": "code",
   "execution_count": 94,
   "metadata": {},
   "outputs": [
    {
     "data": {
      "text/plain": [
       "<__main__.Delivery at 0x1f094d340b0>"
      ]
     },
     "execution_count": 94,
     "metadata": {},
     "output_type": "execute_result"
    }
   ],
   "source": [
    "# A Python project that charges people based on their location and weight of their package in a GUI format using OOP.\n",
    "\n",
    "from tkinter import *  \n",
    "from tkinter import messagebox\n",
    "\n",
    "class Delivery:\n",
    "\n",
    "    def __init__(self):\n",
    "        # Create main window\n",
    "        self.root = Tk()\n",
    "        self.root.title(\"Purchase Form\")\n",
    "        self.root.geometry(\"500x250\")\n",
    "\n",
    "        welcomelabel = Label(self.root, text=\"Welcome to Okenla Delivery Services !!!\", font=(\"Arial\",16))\n",
    "        welcomelabel.pack()\n",
    "\n",
    "        # Create location Label and entry\n",
    "        self.location_label = Label(self.root, text=\"Enter Location to Deliver:\")\n",
    "        self.location_label.pack()\n",
    "        self.location_entry = Entry(self.root)\n",
    "        self.location_entry.pack()\n",
    "\n",
    "        # Create weight Label and entry\n",
    "        self.weight_label = Label(self.root, text=\"Enter Weight of Package to be Delivered:\")\n",
    "        self.weight_label.pack()\n",
    "        self.weight_entry = Entry(self.root)\n",
    "        self.weight_entry.pack()\n",
    "\n",
    "        # Create Submit button\n",
    "        self.submit_button = Button(self.root, text=\"Submit\", command=self.check_price)\n",
    "        self.submit_button.pack(pady=10)\n",
    "\n",
    "        # Create Close button\n",
    "        self.close_button = Button(self.root, text=\"Close\", command=self.close_button_click)\n",
    "        self.close_button.pack(pady=10)\n",
    "\n",
    "        # Run the main event Loop\n",
    "        self.root.mainloop()\n",
    "\n",
    "    def check_price(self):\n",
    "        self.location = self.location_entry.get()\n",
    "        self.weight = self.weight_entry.get()\n",
    "        self.weight_int = int(self.weight)\n",
    "        if self.location == \"PAU\" and self.weight_int >= 10:\n",
    "            messagebox.showinfo(\"Price\", \"Your Price is N2,000\")\n",
    "            messagebox.askyesno(\"Confirm\", \"Do you want to Deliver?\")\n",
    "            if True:\n",
    "                messagebox.showinfo(\"Successful\", \"Delivery successfully\")\n",
    "            else:\n",
    "                pass\n",
    "\n",
    "        elif self.location == \"PAU\" and self.weight_int < 10:\n",
    "            messagebox.showinfo(\"Price\", \"Your Price is N1,500\")\n",
    "            messagebox.askyesno(\"Confirm\", \"Do you want to deliver?\")\n",
    "            if confirm == True:\n",
    "                messagebox.showinfo(\"Successful\", \"Deliver successfully\")\n",
    "            else:\n",
    "                pass\n",
    "\n",
    "        elif self.location == \"Epe\" and self.weight_int >= 10:\n",
    "            messagebox.showinfo(\"Price\", \"Your Price is N5,000\")\n",
    "            confirm = messagebox.askyesno(\"Confirm\", \"Do you want to deliver?\")\n",
    "            if confirm == True:\n",
    "                messagebox.showinfo(\"Successful\", \"Order successfully\")\n",
    "            else:\n",
    "                pass\n",
    "\n",
    "\n",
    "        elif self.location == \"Epe\" and self.weight_int < 10:\n",
    "            messagebox.showinfo(\"Price\", \"Your Price is N4,000\")\n",
    "            messagebox.askyesno(\"Confirm\", \"Do you want to deliver?\")\n",
    "            if confirm == True:\n",
    "                messagebox.showinfo(\"Successful\", \"Delivery successfully\")\n",
    "            else:\n",
    "                pass\n",
    "\n",
    "        else:\n",
    "            messagebox.showwarning(\"Location Error\", \"Location cannot be delivered to.\")\n",
    "\n",
    "    def close_button_click(self):\n",
    "\n",
    "        #  Ask for user confirmation\n",
    "        self.result = messagebox.askyesno(\"Confirmation\", \"Are you sure you want to close the page?\")\n",
    "        if self.result == True:\n",
    "            # Close the window\n",
    "            self.root.destroy()\n",
    "        else:\n",
    "            # Do nothing\n",
    "            pass\n",
    "            \n",
    "Delivery()\n"
   ]
  }
 ],
 "metadata": {
  "kernelspec": {
   "display_name": "Python 3",
   "language": "python",
   "name": "python3"
  },
  "language_info": {
   "codemirror_mode": {
    "name": "ipython",
    "version": 3
   },
   "file_extension": ".py",
   "mimetype": "text/x-python",
   "name": "python",
   "nbconvert_exporter": "python",
   "pygments_lexer": "ipython3",
   "version": "3.12.3"
  }
 },
 "nbformat": 4,
 "nbformat_minor": 4
}
