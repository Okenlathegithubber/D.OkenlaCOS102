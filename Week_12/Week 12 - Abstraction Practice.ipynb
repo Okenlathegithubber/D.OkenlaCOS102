{
 "cells": [
  {
   "cell_type": "markdown",
   "metadata": {},
   "source": [
    "# What is Abstraction in OOP"
   ]
  },
  {
   "cell_type": "markdown",
   "metadata": {},
   "source": [
    "<ul><li>Abstraction is the concept of object-oriented programming that “shows” only essential attributes and “hides” unnecessary information.</li><li>The main purpose of abstraction is hiding the unnecessary details from the users. </li><li> Abstraction is selecting data from a larger pool to show only relevant details of the object to the user. </li><li> It helps in reducing programming complexity and efforts. </li><li>It is one of the most important concepts of OOPs.</li></ul> "
   ]
  },
  {
   "cell_type": "markdown",
   "metadata": {},
   "source": [
    "# Abstraction in Python"
   ]
  },
  {
   "cell_type": "markdown",
   "metadata": {},
   "source": [
    "<ul><li>Abstraction in python is defined as hiding the implementation of logic from the client and using the particular application. </li><li>It hides the irrelevant data specified in the project, reducing complexity and giving value to the efficiency.</li><li> Abstraction is made in Python using <b>Abstract classes</b> and their methods in the code.</li></ul>"
   ]
  },
  {
   "cell_type": "markdown",
   "metadata": {},
   "source": [
    "## What is an Abstract Class?"
   ]
  },
  {
   "cell_type": "markdown",
   "metadata": {},
   "source": [
    "<ul><li>Abstract Class is a type of class in OOPs, that declare one or more abstract methods. </li><li>These classes can have abstract methods as well as concrete methods. </li><li>A normal class cannot have abstract methods.</li><li>An abstract class is a class that contains at least one abstract method.</li></ul>"
   ]
  },
  {
   "cell_type": "markdown",
   "metadata": {},
   "source": [
    "## What are Abstract Methods?\n",
    "<ul><li>Abstract Method is a method that has just the method definition but does not contain implementation.</li><li>A method without a body is known as an Abstract Method.</li><li>It must be declared in an abstract class.</li><li>The abstract method will never be final because the abstract class must implement all the abstract methods.</li></ul>"
   ]
  },
  {
   "cell_type": "markdown",
   "metadata": {},
   "source": [
    "## When to use Abstract Methods & Abstract Class?\n",
    "<ul><li>Abstract methods are mostly declared where two or more subclasses are also doing the same thing in different ways through different implementations.</li><li>It also extends the same Abstract class and offers different implementations of the abstract methods.</li><li>Abstract classes help to describe generic types of behaviors and object-oriented programming class hierarchy. </li><li>It also describes subclasses to offer implementation details of the abstract class.</li></ul>"
   ]
  },
  {
   "cell_type": "markdown",
   "metadata": {},
   "source": [
    "## Difference between Abstraction and Encapsulation"
   ]
  },
  {
   "cell_type": "markdown",
   "metadata": {},
   "source": [
    "<table style=\"background-color:#ffe6e6\">\n",
    "    <tr><th><b>Abstraction</b></th><th><b>Encapsulation</b></th></tr>\n",
    "    <tr><td>Abstraction in Object Oriented Programming solves the issues at the design level.</td><td>Encapsulation solves it implementation level.</td></tr>\n",
    "    <tr><td>Abstraction in Programming is about hiding unwanted details while showing most essential information.</td><td>Encapsulation means binding the code and data into a single unit.</td></tr>\n",
    "    <tr><td>Data Abstraction in Java allows focussing on what the information object must contain</td><td>Encapsulation means hiding the internal details or mechanics of how an object does something for security reasons.</td></tr>\n",
    "</table>"
   ]
  },
  {
   "cell_type": "markdown",
   "metadata": {},
   "source": [
    "## Advantages of Abstraction\n",
    "<ol><li>The main benefit of using an Abstraction in Programming is that it allows you to group several related classes as siblings.</li><li>\n",
    "Abstraction in Object Oriented Programming helps to reduce the complexity of the design and implementation process of software.</li></ol>"
   ]
  },
  {
   "cell_type": "markdown",
   "metadata": {},
   "source": [
    "## How Abstract Base classes work : \n",
    "<ul><li>By default, Python does not provide abstract classes. Python comes with a module that provides the base for defining Abstract Base classes(ABC) and that module name is ABC. </li><li>ABC works by decorating methods of the base class as abstract and then registering concrete classes as implementations of the abstract base. </li><li>A method becomes abstract when decorated with the keyword @abstractmethod.</li></ul>"
   ]
  },
  {
   "cell_type": "markdown",
   "metadata": {},
   "source": [
    "#### Syntax\n",
    "\n",
    "Abstract class Syntax is declared as:"
   ]
  },
  {
   "cell_type": "code",
   "execution_count": 1,
   "metadata": {},
   "outputs": [],
   "source": [
    "from abc import ABC\n",
    "\n",
    "# declaration\n",
    "class classname(ABC):\n",
    "    pass"
   ]
  },
  {
   "cell_type": "markdown",
   "metadata": {},
   "source": [
    "Abstract method Syntax is declared as"
   ]
  },
  {
   "cell_type": "code",
   "execution_count": 2,
   "metadata": {},
   "outputs": [],
   "source": [
    "def abstractmethod_name():\n",
    "    pass "
   ]
  },
  {
   "cell_type": "markdown",
   "metadata": {},
   "source": [
    "### Few things to be noted in Python:\n",
    "\n",
    "<ul><li>In python, an abstract class can hold both an abstract method and a normal method.</li><li>\n",
    "The second point is an abstract class is not initiated (no objects are created).</li><li>\n",
    "The derived class implementation methods are defined in abstract base classes.</li></ul>"
   ]
  },
  {
   "cell_type": "code",
   "execution_count": 6,
   "metadata": {},
   "outputs": [],
   "source": [
    "from abc import ABC\n",
    "\n",
    "# here abc and ABC are case-sensitive. When we swap it creates"
   ]
  },
  {
   "cell_type": "markdown",
   "metadata": {},
   "source": [
    "### Code I:"
   ]
  },
  {
   "cell_type": "code",
   "execution_count": 7,
   "metadata": {},
   "outputs": [],
   "source": [
    "from abc import ABC, abstractmethod\n",
    "\n",
    "# Abstract Class\n",
    "class product(ABC):                    \n",
    "    \n",
    "    # Normal Method\n",
    "    def item_list(self, rate):\n",
    "        print(\"amount submitted : \",rate)\n",
    "    \n",
    "    # Abstract Method\n",
    "    @abstractmethod\n",
    "    def product(self,rate):   # Note Abstract Method do not initialize. It does not return a value or anything.\n",
    "        pass                   \n",
    "        "
   ]
  },
  {
   "cell_type": "markdown",
   "metadata": {},
   "source": [
    "### Code II:\n",
    "A program to generate the volume of geometric shapes"
   ]
  },
  {
   "cell_type": "code",
   "execution_count": 14,
   "metadata": {},
   "outputs": [
    {
     "name": "stdout",
     "output_type": "stream",
     "text": [
      "Volume of a rectangle: 144\n",
      "Volume of a circle: 2089.9840000000004\n",
      "Volume of a square: 125\n",
      "Volume of a triangle: 10.0\n"
     ]
    }
   ],
   "source": [
    "from abc import ABC\n",
    "\n",
    "class geometric(ABC):\n",
    "    \n",
    "    @abstractmethod\n",
    "    def volume(self):\n",
    "        #abstract method\n",
    "        pass\n",
    "    \n",
    "class Rect(geometric):\n",
    "    length = 4\n",
    "    width = 6\n",
    "    height = 6\n",
    "    \n",
    "    def volume(self):\n",
    "        return self.length * self.width *self.height\n",
    "    \n",
    "class Sphere(geometric):\n",
    "    radius = 8\n",
    "    def volume(self):\n",
    "        return 1.3 * 3.14 * self.radius ** 3\n",
    "    \n",
    "class Cube(geometric):\n",
    "    Edge = 5\n",
    "    def volume(self):\n",
    "        return self.Edge ** 3\n",
    "    \n",
    "class Triangle_3D(geometric):\n",
    "    length = 5\n",
    "    width = 4\n",
    "    def volume(self):\n",
    "        return 0.5 * self.length * self.width\n",
    "\n",
    "\n",
    "rr = Rect()\n",
    "ss = Sphere()\n",
    "cc = Cube()\n",
    "tt = Triangle_3D()\n",
    "print(\"Volume of a rectangle:\", rr.volume())\n",
    "print(\"Volume of a circle:\", ss.volume())\n",
    "print(\"Volume of a square:\", cc.volume())\n",
    "print(\"Volume of a triangle:\", tt.volume())"
   ]
  },
  {
   "cell_type": "markdown",
   "metadata": {},
   "source": [
    "### Code III\n",
    "A program to generate different invoices"
   ]
  },
  {
   "cell_type": "code",
   "execution_count": 43,
   "metadata": {},
   "outputs": [
    {
     "name": "stdout",
     "output_type": "stream",
     "text": [
      "paycheque of:  6500\n",
      "Purchase of the product:  6500\n",
      "True\n",
      "pay through card of:  2600\n",
      "Purchase of the product:  2600\n",
      "True\n"
     ]
    }
   ],
   "source": [
    "from abc import ABC, abstractmethod\n",
    "\n",
    "class Bill(ABC):\n",
    "    def final_bill(self, pay):\n",
    "        print('Purchase of the product: ', pay)\n",
    "        \n",
    "    @abstractmethod\n",
    "    def Invoice(self, pay):\n",
    "        pass\n",
    "    \n",
    "class Paycheque(Bill):\n",
    "    def Invoice(self, pay):\n",
    "        print('paycheque of: ', pay)\n",
    "        \n",
    "class CardPayment(Bill):\n",
    "    def Invoice(self, pay):\n",
    "        print('pay through card of: ', pay)\n",
    "        \n",
    "aa = Paycheque()\n",
    "aa.Invoice(6500)\n",
    "aa.final_bill(6500)\n",
    "print(isinstance(aa,Paycheque))\n",
    "\n",
    "ab = CardPayment()\n",
    "ab.Invoice(2600)\n",
    "ab.final_bill(2600)\n",
    "print(isinstance(ab,CardPayment))"
   ]
  },
  {
   "cell_type": "markdown",
   "metadata": {},
   "source": [
    "### Code IV:\n",
    " Python program showing abstract base class work"
   ]
  },
  {
   "cell_type": "code",
   "execution_count": 34,
   "metadata": {},
   "outputs": [
    {
     "name": "stdout",
     "output_type": "stream",
     "text": [
      "I can walk and run\n",
      "I can crawl\n",
      "I can bark\n",
      "I can roar\n"
     ]
    }
   ],
   "source": [
    "from abc import ABC, abstractmethod\n",
    "\n",
    "class Animals(ABC):\n",
    "\n",
    "    @abstractmethod\n",
    "    def move(self):\n",
    "        pass\n",
    "\n",
    "class Human(Animals):\n",
    "    \n",
    "    def move(self):\n",
    "        print(\"I can walk and run\")\n",
    "\n",
    "class Snake(Animals):\n",
    "    \n",
    "    def move(self):\n",
    "        print(\"I can crawl\")\n",
    "\n",
    "class Dog(Animals):\n",
    "\n",
    "    def move(self):\n",
    "        print(\"I can bark\")\n",
    "\n",
    "class Lion(Animals):\n",
    "    \n",
    "    def move(self):\n",
    "        print(\"I can roar\")\n",
    "\n",
    "# Object Instantiation\n",
    "R = Human()\n",
    "R.move()\n",
    "\n",
    "K = Snake()\n",
    "K.move()\n",
    "\n",
    "R = Dog()\n",
    "R.move()\n",
    "\n",
    "K = Lion()\n",
    "K.move()\n"
   ]
  },
  {
   "cell_type": "markdown",
   "metadata": {},
   "source": [
    "### Concrete Methods in Abstract Base Classes : \n",
    "<ul><li>Concrete (normal) classes contain only concrete (normal) methods whereas abstract classes may contain both concrete methods and abstract methods.</li><li> The concrete class provides an implementation of abstract methods, the abstract base class can also provide an implementation by invoking the methods via super().</li></ul>"
   ]
  },
  {
   "cell_type": "markdown",
   "metadata": {},
   "source": [
    "### Code V:\n",
    "Python program invoking a method using super()"
   ]
  },
  {
   "cell_type": "code",
   "execution_count": 41,
   "metadata": {},
   "outputs": [
    {
     "name": "stdout",
     "output_type": "stream",
     "text": [
      "Abstract Base Class\n",
      "subclass\n"
     ]
    }
   ],
   "source": [
    "from abc import ABC, abstractmethod\n",
    "\n",
    "class Zinc(ABC):\n",
    "\n",
    "    def rk(self):\n",
    "        print(\"Abstract Base Class\")\n",
    "\n",
    "class Tin(Zinc):\n",
    "    def rk(self):\n",
    "        super().rk()\n",
    "        print(\"subclass\")\n",
    "\n",
    "# Object instantiation\n",
    "r = Tin()\n",
    "r.rk()\n"
   ]
  },
  {
   "cell_type": "markdown",
   "metadata": {},
   "source": [
    "### Code VI:"
   ]
  },
  {
   "cell_type": "code",
   "execution_count": 48,
   "metadata": {},
   "outputs": [
    {
     "name": "stdout",
     "output_type": "stream",
     "text": [
      "Total Naira Value here:  5000\n",
      "Total Naira Value here: 2000\n",
      "Fees submitted :  3500\n"
     ]
    }
   ],
   "source": [
    "from abc import ABC, abstractmethod\n",
    "\n",
    "class Bank(ABC):\n",
    "    def branch(self, Naira):\n",
    "        print(\"Fees submitted : \",Naira)\n",
    "   \n",
    "    @abstractmethod\n",
    "    def Bank(Naira):\n",
    "        pass\n",
    "        \n",
    "    \n",
    "class private(Bank):\n",
    "    def Bank(naira):        # Note: The parameter of a sub-class doesn't have to bee the same as the parameter of the base class.\n",
    "        print(\"Total Naira Value here: \",naira)\n",
    "        \n",
    "class public(Bank):\n",
    "    def Bank(Naira):\n",
    "        print(\"Total Naira Value here:\",Naira)\n",
    "\n",
    "private.Bank(5000)\n",
    "public.Bank(2000)\n",
    "\n",
    "a = public()\n",
    "a.branch(3500)"
   ]
  },
  {
   "cell_type": "markdown",
   "metadata": {},
   "source": [
    "## Class Project I"
   ]
  },
  {
   "cell_type": "markdown",
   "metadata": {},
   "source": [
    "Develop a python OOP program that creates an abstract base class called coup_de_ecriva.  The base class will have one abstract method called <b>Fan_Page</b> and four subclassses namely; <b>FC_Cirok, Madiba_FC, Blue_Jay_FC and TSG_Walker</b>. The program will receive as input the name of the club the user supports and instantiate an object that will invoke the <b>Fan_Page</b> method in the subclass that prints Welcome to <b>\"club name\"</b>.\n",
    "\n",
    "<p><b>Hint:</b></p>\n",
    "The subclasses will use <b>Single Inheritance</b> to inherit the abstract base class.\n",
    " "
   ]
  },
  {
   "cell_type": "code",
   "execution_count": 2,
   "metadata": {},
   "outputs": [
    {
     "name": "stdout",
     "output_type": "stream",
     "text": [
      "Welcome to Coup-De-Ecriva\n",
      "What team do you support?\n",
      "Input 1 for FC Cirok\n",
      "Input 2 for Madiba FC\n",
      "Input 3 for Blue Jays FC\n",
      "Input 4 for TSG Walker\n",
      "Welcome to Madiba FC\n"
     ]
    }
   ],
   "source": [
    "# Abstract class = cooup_de_ecriva\n",
    "#  Abstract method = Fan_Page\n",
    "\n",
    "# There are 4 subclasses: FC_Cirok, Madiba_FC, Blue_Jay & TSG_Walker\n",
    "\n",
    "from abc import ABC, abstractmethod\n",
    "\n",
    "class coup_de_ecriva(ABC):\n",
    "\n",
    "    @abstractmethod     # Abstract Method\n",
    "    def Fan_Page(self):\n",
    "        pass\n",
    "\n",
    "# 4 Sub-classes to welcome users that support one of the clubs.\n",
    "\n",
    "class FC_Cirok(coup_de_ecriva): \n",
    "    def Fan_Page(self):\n",
    "        print(\"Welcome to FC Cirok\")\n",
    "\n",
    "class Madiba_FC(coup_de_ecriva):\n",
    "    def Fan_Page(self):\n",
    "        print(\"Welcome to Madiba FC\")\n",
    "\n",
    "class Blue_Jay_FC(coup_de_ecriva):\n",
    "    def Fan_Page(self):\n",
    "        print(\"Welcome to Blue Jay FC\")\n",
    "\n",
    "class TSG_Walker(coup_de_ecriva):\n",
    "    def Fan_Page(self):\n",
    "        print(\"Welcome to TSG Walker\")\n",
    "\n",
    "print(\"Welcome to Coup-De-Ecriva\")\n",
    "print(\"What team do you support?\")\n",
    "print(\"Input 1 for FC Cirok\")\n",
    "print(\"Input 2 for Madiba FC\")\n",
    "print(\"Input 3 for Blue Jays FC\")\n",
    "print(\"Input 4 for TSG Walker\")\n",
    "\n",
    "# Get Input from user.\n",
    "choice = int(input(\"Input Number >> \"))\n",
    "\n",
    "# If choice is between 1 and 4, Then welcome user.\n",
    "# Else tell the user invalid input. \n",
    "if choice == 1:\n",
    "    cirok = FC_Cirok()\n",
    "    cirok.Fan_Page()\n",
    "\n",
    "elif choice == 2:\n",
    "    madiba = Madiba_FC()\n",
    "    madiba.Fan_Page()\n",
    "\n",
    "elif choice == 3:\n",
    "    blue_jay = Blue_Jay_FC()\n",
    "    blue_jay.Fan_Page()\n",
    "\n",
    "elif choice == 4:\n",
    "    tsg = TSG_Walker()\n",
    "    tsg.Fan_Page()\n",
    "\n",
    "else:\n",
    "    print(\"Invalid Input\")"
   ]
  },
  {
   "cell_type": "markdown",
   "metadata": {},
   "source": [
    "## Class Project II"
   ]
  },
  {
   "cell_type": "markdown",
   "metadata": {},
   "source": [
    "The Service Unit of PAU has contacted you to develop a program to manage some of the External Food Vendors. With your knowledge in python GUI and OOP develop a program to manage the PAU External Food Vendors. The program receives as input the vendor of interest and display the menu of the interested vendor. The External vendors are Faith hostel, Cooperative Hostel, and Student Center. Find below the menus:\n",
    "\n",
    "<table><tr><td>\n",
    "<table style=\"background-color:#47b5ff\">\n",
    "    <tr><th colspan='2'>Cooperative Cafeteria</th></tr>\n",
    "    <tr><th>Main Meal</th><th>Price (N)</th></tr>\n",
    "    <tr><td>Jollof Rice and Stew</td><td>200</td></tr>\n",
    "    <tr><td>White Rice and Stew</td><td>200</td></tr>\n",
    "    <tr><td>Fried Rice</td><td>200</td></tr>\n",
    "    <tr><td>Salad</td><td>100</td></tr>\n",
    "    <tr><td>Platain</td><td>100</td></tr>\n",
    "</table>\n",
    "    </td><td>\n",
    "<table style=\"background-color:white\">\n",
    "    <tr><th colspan='2'>Faith Hostel Cafeteria</th></tr>\n",
    "    <tr><th>Main Meal</th><th>Price (N)</th></tr>\n",
    "    <tr><td>Fried Rice</td><td>400</td></tr>\n",
    "    <tr><td>White Rice and Stew</td><td>400</td></tr>\n",
    "    <tr><td>Jollof Rice</td><td>400</td></tr>\n",
    "    <tr><td>Beans</td><td>200</td></tr>\n",
    "    <tr><td>Chicken</td><td>1000</td></tr>\n",
    "</table>\n",
    "    </td><td>\n",
    "    <table style=\"background-color:#fcf96c\">\n",
    "    <tr><th colspan='2'>Student Centre Cafeteria</th></tr>\n",
    "    <tr><th>Main Meal</th><th>Price (N)</th></tr>\n",
    "    <tr><td>Chicken Fried Rice</td><td>800</td></tr>\n",
    "    <tr><td>Pomo Sauce</td><td>300</td></tr>\n",
    "    <tr><td>Spaghetti Jollof</td><td>500</td></tr>\n",
    "    <tr><td>Amala/Ewedu</td><td>500</td></tr>\n",
    "    <tr><td>Semo with Eforiro Soup</td><td>500</td></tr>\n",
    "</table>\n",
    "    </td></tr>\n",
    "<table>\n",
    "    \n",
    "<p><b>Hints:</b></p>\n",
    "    <ul><li>The abstract base class is called <b>External_Vendors()</b>.</li><li>\n",
    "        The abstract method is called <b>menu()</b>.</li><li>\n",
    "The subclasses (the different vendors) will inherit the abstract base class.</li><li>\n",
    "        Each subclass will have a normal method called <b>menu()</b>.</li></ul>\n",
    "    \n",
    "       "
   ]
  },
  {
   "cell_type": "code",
   "execution_count": null,
   "metadata": {},
   "outputs": [],
   "source": [
    "# Abstract base class : External_Vendors\n",
    "# Abstract method : Menu\n",
    "# subclasses : Vendors: Cooperative, Faith Hostel & Student Centre Cafetaria.\n",
    "# Each Subclass has a normal method called method\n",
    "# It is in GUI format"
   ]
  },
  {
   "cell_type": "code",
   "execution_count": 89,
   "metadata": {},
   "outputs": [],
   "source": [
    "from tkinter import * \n",
    "from tkinter import messagebox, ttk\n",
    "from abc import ABC, abstractmethod\n",
    "\n",
    "# Abstract Class\n",
    "class External_Vendors(ABC):\n",
    "    @abstractmethod\n",
    "    def menu(self):\n",
    "        pass\n",
    "\n",
    "class Cooperative(External_Vendors):    # This class has a method menu which is used to display the Cooperative Hostel menu\n",
    "    def menu(self):\n",
    "        self.coop_window = Tk()\n",
    "        self.coop_window.geometry(\"500x200\")\n",
    "        self.coop_window.title(\"Cooperative Cafeteria Menu\")\n",
    "\n",
    "        self.menu_title_label = Label(self.coop_window, text=\"Main Meal\\t\\tPrice(N)\", font=(\"Bold\", 14))\n",
    "        self.menu_title_label.pack()\n",
    "\n",
    "        self.food_label = Label(self.coop_window, text=\"Jollof Rice and Stew\\t\\t200\\n\"\n",
    "        \"White Rice and Stew\\t\\t200\\n\"\n",
    "        \"Fried Rice\\t\\t\\t200\\n\"\n",
    "        \"Salad\\t\\t\\t\\t100\\n\"\n",
    "        \"Plantain\\t\\t\\t\\t100\")\n",
    "        self.food_label.pack()\n",
    "\n",
    "        self.close = Button(self.coop_window, text=\"Close\", command=self.coop_window.destroy)\n",
    "        self.close.pack()\n",
    "\n",
    "        self.coop_window.mainloop()\n",
    "\n",
    "class Faith(External_Vendors):      # This class has a method menu which is used to display the Faith Hostel menu\n",
    "    def menu(self):\n",
    "        self.faith_window = Tk()\n",
    "        self.faith_window.geometry(\"500x200\")\n",
    "        self.faith_window.title(\"Faith Hostel Cafeteria Menu\")\n",
    "\n",
    "        self.menu_title_label = Label(self.faith_window, text=\"Main Meal\\t\\tPrice(N)\", font=(\"Bold\", 14))\n",
    "        self.menu_title_label.pack()\n",
    "        self.food_label = Label(self.faith_window, text=\"Fried Rice\\t\\t\\t400\\n\"\n",
    "        \"White Rice and Stew\\t\\t400\\n\"\n",
    "        \"Jollof Rice\\t\\t\\t400\\n\"\n",
    "        \"Beans\\t\\t\\t\\t200\\n\"\n",
    "        \"Chicken\\t\\t\\t\\t1000\")\n",
    "        self.food_label.pack()\n",
    "        self.close = Button(self.faith_window, text=\"Close\", command=self.faith_window.destroy)\n",
    "        self.close.pack()\n",
    "\n",
    "        self.faith_window.mainloop()\n",
    "\n",
    "class Student_Centre(External_Vendors): # This class has a method menu which is used to display the Student Centre menu\n",
    "    def menu(self):\n",
    "        self.faith_window = Tk()\n",
    "        self.faith_window.geometry(\"500x200\")\n",
    "        self.faith_window.title(\"Faith Hostel Cafeteria Menu\")\n",
    "\n",
    "        self.menu_title_label = Label(self.faith_window, text=\"Main Meal\\t\\tPrice(N)\", font=(\"Bold\", 14))\n",
    "        self.menu_title_label.pack()\n",
    "        self.food_label = Label(self.faith_window, text=\"Fried Rice\\t\\t\\t400\\n\"\n",
    "        \"White Rice and Stew\\t\\t400\\n\"\n",
    "        \"Jollof Rice\\t\\t\\t400\\n\"\n",
    "        \"Beans\\t\\t\\t\\t200\\n\"\n",
    "        \"Chicken\\t\\t\\t\\t1000\")\n",
    "        self.food_label.pack()\n",
    "        self.close = Button(self.faith_window, text=\"Close\", command=self.faith_window.destroy)\n",
    "        self.close.pack()\n",
    "\n",
    "        self.faith_window.mainloop()\n",
    "\n",
    "    def menu(self):\n",
    "        self.sc_window = Tk()\n",
    "        self.sc_window.geometry(\"500x200\")\n",
    "        self.sc_window.title(\"Student Centre Cafeteria Menu\")\n",
    "\n",
    "        self.menu_title_label = Label(self.sc_window, text=\"Main Meal\\t\\tPrice(N)\", font=(\"Bold\", 14))\n",
    "        self.menu_title_label.pack()\n",
    "        self.food_label = Label(self.sc_window, text=\"Chicken Fried Rice\\t\\t\\t800\\n\"\n",
    "        \"Pomo Sauce\\t\\t\\t300\\n\"\n",
    "        \"Spaghetti Jollof\\t\\t\\t500\\n\"\n",
    "        \"Amala/Ewedu\\t\\t\\t500\\n\"\n",
    "        \"Semo with Eforiro Soup\\t\\t500\")\n",
    "        self.food_label.pack()\n",
    "\n",
    "        self.close = Button(self.sc_window, text=\"Close\", command=self.sc_window.destroy)\n",
    "        self.close.pack()\n",
    "\n",
    "        self.sc_window.mainloop()\n",
    "\n",
    "\n",
    "def display_menu():     # This function is to display each menu if selected.\n",
    "    coop = Cooperative()\n",
    "    faith = Faith()\n",
    "    sc = Student_Centre()\n",
    "    vendor_opt_choice = vendor_opt.get()\n",
    "\n",
    "    if vendor_opt_choice == vendors[0]:\n",
    "        return None\n",
    "    elif vendor_opt_choice == vendors[1]:\n",
    "        faith.menu()\n",
    "    elif vendor_opt_choice == vendors[2]:\n",
    "        coop.menu()\n",
    "    elif vendor_opt_choice == vendors[3]:\n",
    "        sc.menu()\n",
    "    else:\n",
    "        messagebox.showerror(\"Error\", \"Invalid Vendor Name\")\n",
    "\n",
    "# To Create GUI\n",
    "root = Tk()\n",
    "root.geometry(\"600x250\")\n",
    "root.title(\"Service Unit\")\n",
    "\n",
    "\n",
    "# Label and Entry that takes user input.\n",
    "vendors = [\"None\",\"Faith Hostel\", \"Cooperative Hostel\", \"Student Center\"]\n",
    "vendor_label = Label(root, text=\"What vendor are you ordering from ?\")\n",
    "vendor_label.grid(column=0, row=1, pady=10)\n",
    "vendor_opt = ttk.Combobox(root,values=vendors)\n",
    "vendor_opt.set(\"None\")\n",
    "vendor_opt.grid(column=1, row=1, pady=10)\n",
    "\n",
    "# Create a Submit Button\n",
    "submit = Button(root, text=\"Submit\", command=display_menu)\n",
    "submit.grid(column=1,pady=15)\n",
    "\n",
    "# Create a Close button\n",
    "close = Button(root, text=\"Close\", command=root.destroy)\n",
    "close.grid(column=1,pady = 15)\n",
    "\n",
    "# To run the gui\n",
    "root.mainloop()"
   ]
  }
 ],
 "metadata": {
  "kernelspec": {
   "display_name": "Python 3",
   "language": "python",
   "name": "python3"
  },
  "language_info": {
   "codemirror_mode": {
    "name": "ipython",
    "version": 3
   },
   "file_extension": ".py",
   "mimetype": "text/x-python",
   "name": "python",
   "nbconvert_exporter": "python",
   "pygments_lexer": "ipython3",
   "version": "3.12.3"
  }
 },
 "nbformat": 4,
 "nbformat_minor": 4
}
